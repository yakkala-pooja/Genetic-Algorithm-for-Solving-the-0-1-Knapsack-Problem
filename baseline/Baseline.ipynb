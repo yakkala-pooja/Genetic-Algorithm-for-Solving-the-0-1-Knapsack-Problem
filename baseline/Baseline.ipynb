{
 "cells": [
  {
   "cell_type": "markdown",
   "id": "a3079167-7635-4d1d-bfd2-3c31b0b0b62d",
   "metadata": {},
   "source": [
    "# Implementing a Non-Genetic Algorithm"
   ]
  },
  {
   "cell_type": "code",
   "execution_count": 1,
   "id": "f71cf52d-c154-4bba-af82-991fba60d2d6",
   "metadata": {},
   "outputs": [
    {
     "name": "stdout",
     "output_type": "stream",
     "text": [
      "Max value using Greedy: 2499\n",
      "Selected items using Greedy: [1, 1, 0, 0, 0, 0, 0, 0, 0, 0, 0, 1, 1, 0, 0, 0, 0, 0, 0, 1, 0, 0, 0, 0, 0, 0, 0, 0, 0, 0, 1, 0, 0, 0, 0, 0, 0, 0, 0, 0, 0, 0, 0, 0, 1, 0, 0, 0, 0, 0]\n"
     ]
    }
   ],
   "source": [
    "import numpy as np\n",
    "\n",
    "def readconfig(config):\n",
    "    with open(config, 'r') as file:\n",
    "        lines = file.readlines()\n",
    "    nitems = int(lines[1].strip())\n",
    "    capacity = int(lines[2].strip())\n",
    "    items = []\n",
    "    for line in lines[4:]:\n",
    "        weight, value = map(int, line.strip().split())\n",
    "        items.append((weight, value))\n",
    "\n",
    "    return nitems, capacity, items\n",
    "\n",
    "def knapsackDP(S, W):\n",
    "    n = len(S)\n",
    "    dp = [[0 for _ in range(W + 1)] for _ in range(n + 1)]\n",
    "    for i in range(1, n + 1):\n",
    "        for w in range(1, W + 1):\n",
    "            weight, value = S[i - 1]\n",
    "            if weight <= w:\n",
    "                dp[i][w] = max(dp[i - 1][w], dp[i - 1][w - weight] + value)\n",
    "            else:\n",
    "                dp[i][w] = dp[i - 1][w]\n",
    "    w = W\n",
    "    selected = [0] * n\n",
    "    for i in range(n, 0, -1):\n",
    "        if dp[i][w] != dp[i - 1][w]:\n",
    "            selected[i - 1] = 1\n",
    "            w -= S[i - 1][0]\n",
    "\n",
    "    return dp[n][W], selected\n",
    "\n",
    "config = \"config_1.txt\"\n",
    "n, W, S = readconfig(config)\n",
    "maxval, selected, = knapsackDP(S, W)\n",
    "print(f\"Max value using Greedy: {maxval}\")\n",
    "print(f\"Selected items using Greedy: {selected}\")"
   ]
  }
 ],
 "metadata": {
  "kernelspec": {
   "display_name": "Python 3 (ipykernel)",
   "language": "python",
   "name": "python3"
  },
  "language_info": {
   "codemirror_mode": {
    "name": "ipython",
    "version": 3
   },
   "file_extension": ".py",
   "mimetype": "text/x-python",
   "name": "python",
   "nbconvert_exporter": "python",
   "pygments_lexer": "ipython3",
   "version": "3.12.6"
  }
 },
 "nbformat": 4,
 "nbformat_minor": 5
}
